{
  "nbformat": 4,
  "nbformat_minor": 0,
  "metadata": {
    "colab": {
      "private_outputs": true,
      "provenance": []
    },
    "kernelspec": {
      "name": "python3",
      "display_name": "Python 3"
    },
    "language_info": {
      "name": "python"
    }
  },
  "cells": [
    {
      "cell_type": "markdown",
      "source": [
        "# Statistics Advanced - 1"
      ],
      "metadata": {
        "id": "PrhBOCIXhncz"
      }
    },
    {
      "cell_type": "markdown",
      "source": [
        "### Question 1: What is a random variable in probability theory ?\n",
        "\n",
        "Ans.\n",
        "    \n",
        "   * In probability theory, a random variable is a variable whose value is a numerical outcome of a random phenomenon. It's a function that maps the outcomes of a random process to numerical values. For example, if you flip a coin, the outcome is either heads or tails. A random variable could assign the value 1 to heads and 0 to tails.\n",
        "   "
      ],
      "metadata": {
        "id": "MOI-OS75iHd5"
      }
    },
    {
      "cell_type": "markdown",
      "source": [
        "# Question 2: What are the types of random variables?\n",
        "\n",
        "Ans.\n",
        "    \n",
        "###* There are two main types of random variables:\n",
        "\n",
        "##1. Discrete Random Variable:\n",
        "* A discrete random variable can only take on a finite number of distinct values or a countably infinite number of values. These values are often integers. Examples include the number of heads in a fixed number of coin flips, the number of cars passing a point on a road in an hour, or the outcome of rolling a die.\n",
        "##2. Continuous Random Variable:\n",
        "* A continuous random variable can take on any value within a given range or interval. These values are typically real numbers. Examples include the height of a person, the temperature in a room, the time it takes to complete a task, or the weight of an object.\n"
      ],
      "metadata": {
        "id": "JglSwPv-iy09"
      }
    },
    {
      "cell_type": "markdown",
      "source": [
        "#Question 3: Explain the difference between discrete and continuous distributions.\n",
        "\n",
        "\n",
        "Ans.\n",
        "\n",
        "* The main difference between discrete and continuous distributions lies in the type of values the random variable can take on and how their probabilities are defined.\n",
        "\n",
        "##* Discrete Distributions:\n",
        "* These describe the probabilities of a discrete random variable taking on specific, distinct values. The probability is associated with each individual value the variable can take. The sum of all probabilities for all possible values must equal 1. Examples include the probability mass function (PMF) for a discrete variable.\n",
        "##* Continuous Distributions:\n",
        "* These describe the probabilities of a continuous random variable falling within a certain range of values. The probability is represented by the area under the probability density function (PDF) over that range. The probability of the variable taking on any single exact value is zero. Examples include the probability density function (PDF) for a continuous variable."
      ],
      "metadata": {
        "id": "TwVJBLJNjoPr"
      }
    },
    {
      "cell_type": "markdown",
      "source": [
        "#Question 4: What is a binomial distribution, and how is it used in probability ?\n",
        "\n",
        "Ans.\n",
        "  * A binomial distribution is a discrete probability distribution that describes the probability of obtaining a certain number of successes in a fixed number of independent Bernoulli trials, each with a constant probability of success.\n",
        "\n",
        "###Here's a breakdown of its key characteristics:\n",
        "\n",
        "##* Fixed Number of Trials:\n",
        "* The experiment consists of a fixed number of trials, denoted by n.\n",
        "Independent Trials: Each trial is independent of the others. The outcome of one trial does not affect the outcome of any other trial.\n",
        "##* Two Possible Outcomes:\n",
        "* Each trial has only two possible outcomes: \"success\" and \"failure.\"\n",
        "##* Constant Probability of Success:\n",
        "* The probability of success, denoted by p, is the same for every trial. The probability of failure is then q = 1 - p.\n",
        "\n",
        "###* How it's used in probability:\n",
        "\n",
        "* The binomial distribution is used to model and calculate probabilities in situations where you have a series of independent events, each with two possible outcomes. Some common applications include:\n",
        "\n",
        "##* Quality Control:\n",
        "* Determining the probability of a certain number of defective items in a batch.\n",
        "##* Medical Research:\n",
        "* Calculating the probability of a certain number of patients responding to a treatment.\n",
        "##* Surveys and Polls:\n",
        "* Estimating the probability of a certain number of people holding a particular opinion.\n",
        "##* Genetics:\n",
        "* Predicting the probability of a certain genotype in offspring.\n",
        "* The probability mass function (PMF) of a binomial distribution gives the probability of getting exactly k successes in n trials, and is given by the formula:\n",
        "\n",
        "* P(X = k) = C(n, k) * p^k * (1-p)^(n-k)\n",
        "\n",
        "* where C(n, k) is the binomial coefficient, representing the number of ways to choose k successes from n trials.\n",
        "\n",
        "\n",
        "    "
      ],
      "metadata": {
        "id": "nK0PGpXkklPS"
      }
    },
    {
      "cell_type": "markdown",
      "source": [
        "# Question 5: What is the standard normal distribution, and why is it important?\n",
        "\n",
        "\n",
        "Ans.\n",
        "   * The standard normal distribution is a special case of the normal distribution. It is a continuous probability distribution with a mean of 0 and a standard deviation of 1. It is often denoted by Z.\n",
        "\n",
        "###* It is important for several reasons:\n",
        "\n",
        "##1. Standardization:\n",
        "* Any normal distribution can be transformed into the standard normal distribution by standardizing the random variable. This process involves subtracting the mean and dividing by the standard deviation. This allows us to compare values from different normal distributions.\n",
        "##2. Probability Calculation:\n",
        "* Probabilities for any normal distribution can be found by first converting to the standard normal distribution and then using a standard normal table (Z-table) or statistical software. The area under the curve of the standard normal distribution represents probability.\n",
        "##3. Central Limit Theorem:\n",
        "* The standard normal distribution is a key component in the Central Limit Theorem, which states that the distribution of sample means approaches a normal distribution as the sample size increases, regardless of the shape of the original population distribution. This theorem is fundamental to statistical inference.\n",
        "##4. Statistical Inference:\n",
        "* Many statistical tests and confidence intervals are based on the standard normal distribution.\n",
        "##5. Simplicity:\n",
        "* Having a single standardized distribution makes it easier to develop and use statistical methods.\n"
      ],
      "metadata": {
        "id": "g_2A_6uAmd9y"
      }
    },
    {
      "cell_type": "markdown",
      "source": [
        "# Question 6: What is the Central Limit Theorem (CLT), and why is it critical in statistics?\n",
        "\n",
        "Ans.\n",
        "\n",
        "* The Central Limit Theorem (CLT) is a fundamental theorem in statistics. It states that if you take sufficiently large random samples from any population with a finite mean and variance, the distribution of the sample means will approximate a normal distribution, regardless of the shape of the original population distribution. The larger the sample size, the closer the distribution of sample means will be to a normal distribution.\n",
        "\n",
        "###Why is it critical in statistics?\n",
        "\n",
        "##* Foundation for Statistical Inference:\n",
        "* The CLT is the cornerstone of many statistical methods, including hypothesis testing and constructing confidence intervals. It allows us to make inferences about a population based on a sample, even if we don't know the original population's distribution.\n",
        "##* Approximation of Sampling Distributions:\n",
        "* It provides a way to approximate the sampling distribution of the mean when the population distribution is unknown or not normal. This is incredibly useful in practice, as real-world data often doesn't follow a perfectly normal distribution.\n",
        "##* Justification for Using Normal Distribution:\n",
        "* Because of the CLT, we can often use the properties of the normal distribution to analyze and interpret data, even when dealing with non-normal data, as long as the sample size is large enough.\n",
        "##* Understanding Variability:\n",
        "* The CLT also tells us that the standard deviation of the sample means (also known as the standard error) is equal to the population standard deviation divided by the square root of the sample size. This helps us understand how much variability we can expect in our sample means."
      ],
      "metadata": {
        "id": "9QqHg9KTnlFC"
      }
    },
    {
      "cell_type": "markdown",
      "source": [
        "# Question 7: What is the significance of confidence intervals in statistical analysis ?\n",
        "\n",
        "Ans.\n",
        "\n",
        " * Confidence intervals are crucial in statistical analysis because they provide a range of plausible values for an unknown population parameter based on a sample. Here's why they are significant:\n",
        "\n",
        "##* Quantifying Uncertainty:\n",
        "* Unlike a single point estimate (like a sample mean), a confidence interval explicitly acknowledges and quantifies the uncertainty associated with estimating a population parameter from a sample. It provides a range within which the true population parameter is likely to lie.\n",
        "##* Providing a Range of Plausible Values:\n",
        "* A confidence interval gives a set of plausible values for the population parameter. For example, a 95% confidence interval for the mean height of a population might be [65 inches, 68 inches]. This suggests that based on the sample, we are 95% confident that the true average height of the population is somewhere between 65 and 68 inches.\n",
        "##* Aiding in Decision Making:\n",
        "* Confidence intervals can be very useful in decision-making. If a confidence interval for the difference between two treatments includes zero, it suggests that the observed difference might be due to random chance, and there might not be a statistically significant difference between the treatments. If the interval does not include zero, it provides evidence of a significant difference.\n",
        "##* Interpreting Results:\n",
        "* Confidence intervals help in interpreting the results of studies and experiments. They provide a more complete picture than just a point estimate, allowing researchers and readers to understand the precision of the estimate.\n",
        "##* Relationship with Hypothesis Testing:\n",
        "* There is a close relationship between confidence intervals and hypothesis testing. If a confidence interval for a parameter at a certain confidence level does not contain the hypothesized value under the null hypothesis, then the null hypothesis would be rejected at the corresponding significance level.\n",
        "\n",
        "   \n"
      ],
      "metadata": {
        "id": "t2uNVtkGpC1x"
      }
    },
    {
      "cell_type": "markdown",
      "source": [
        "# Question 8: What is the concept of expected value in a probability distribution ?\n",
        "\n",
        "Ans.\n",
        "\n",
        "* The expected value (or expectation) of a random variable is a fundamental concept in probability theory. It represents the average value of the random variable over a large number of trials or observations. It is essentially the weighted average of all possible values that the random variable can take, where the weights are the probabilities of those values occurring.\n",
        "\n",
        "###* Here's a breakdown of the concept:\n",
        "\n",
        "##* For a Discrete Random Variable:\n",
        "* The expected value (E[X]) is calculated by summing the product of each possible value of the variable (x) and its corresponding probability (P(x)).\n",
        "\n",
        "* E[X] = Σ [x * P(x)]\n",
        "\n",
        "* Where the sum is taken over all possible values of x.\n",
        "\n",
        "* For example, if you roll a fair six-sided die, the possible values are 1, 2, 3, 4, 5, and 6, each with a probability of 1/6. The expected value is:\n",
        "\n",
        "* E[X] = (1 * 1/6) + (2 * 1/6) + (3 * 1/6) + (4 * 1/6) + (5 * 1/6) + (6 * 1/6) = 21/6 = 3.5\n",
        "\n",
        "* This means that if you rolled the die many times, the average of the outcomes would be close to 3.5.\n",
        "\n",
        "##* For a Continuous Random Variable:\n",
        "* The expected value (E[X]) is calculated by integrating the product of each possible value of the variable (x) and its probability density function (f(x)) over the entire range of possible values.\n",
        "\n",
        "* E[X] = ∫ [x * f(x)] dx\n",
        "\n",
        "* Where the integral is taken over the range of the random variable.\n",
        "\n",
        "* The expected value is a measure of the central tendency of a probability distribution. It doesn't necessarily represent a value that the random variable will ever actually take (as seen in the die example where the expected value is 3.5, which is not a possible outcome), but rather the long-run average.\n",
        "\n",
        "* It is widely used in various fields, including:\n",
        "\n",
        "##* Finance:\n",
        "* Calculating the expected return of an investment.\n",
        "##* Insurance:\n",
        "* Determining the expected cost of claims.\n",
        "Decision Making: Evaluating the average outcome of different choices under uncertainty."
      ],
      "metadata": {
        "id": "aqb6JmMwqcda"
      }
    },
    {
      "cell_type": "markdown",
      "source": [
        "# Question 9: Write a Python program to generate 1000 random numbers from a normal\n",
        "# distribution with mean = 50 and standard deviation = 5. Compute its mean and standard\n",
        "# deviation using NumPy, and draw a histogram to visualize the distribution.\n",
        "(Include your Python code and output in the code )"
      ],
      "metadata": {
        "id": "JINyNQw1tE5Z"
      }
    },
    {
      "cell_type": "code",
      "metadata": {
        "id": "d325f239"
      },
      "source": [
        "import numpy as np\n",
        "import matplotlib.pyplot as plt\n",
        "\n",
        "# Generate 1000 random numbers from a normal distribution\n",
        "mean = 50\n",
        "std_dev = 5\n",
        "num_samples = 1000\n",
        "random_numbers = np.random.normal(mean, std_dev, num_samples)\n",
        "\n",
        "# Compute the mean and standard deviation using NumPy\n",
        "computed_mean = np.mean(random_numbers)\n",
        "computed_std_dev = np.std(random_numbers)\n",
        "\n",
        "print(f\"Generated Mean: {computed_mean}\")\n",
        "print(f\"Generated Standard Deviation: {computed_std_dev}\")\n",
        "\n",
        "# Draw a histogram to visualize the distribution\n",
        "plt.hist(random_numbers, bins=30, density=True, alpha=0.6, color='g')\n",
        "plt.title('Histogram of Random Numbers from Normal Distribution')\n",
        "plt.xlabel('Value')\n",
        "plt.ylabel('Frequency')\n",
        "plt.show()"
      ],
      "execution_count": null,
      "outputs": []
    },
    {
      "cell_type": "markdown",
      "source": [
        "# Question 10: You are working as a data analyst for a retail company. The company has\n",
        "#collected daily sales data for 2 years and wants you to identify the overall sales trend.\n",
        "#daily_sales = [220, 245, 210, 265, 230, 250, 260, 275, 240, 255,\n",
        "#235, 260, 245, 250, 225, 270, 265, 255, 250, 260]\n",
        "#* ● Explain how you would apply the Central Limit Theorem to estimate the average sales\n",
        "#with a 95% confidence interval.\n",
        "#* ● Write the Python code to compute the mean sales and its confidence interval.\n",
        "(Include your Python code and output in the code box below.)\n"
      ],
      "metadata": {
        "id": "SOBzNOiWtpZq"
      }
    },
    {
      "cell_type": "markdown",
      "metadata": {
        "id": "701c8442"
      },
      "source": [
        "* **Applying the Central Limit Theorem (CLT) to estimate average sales:**\n",
        "\n",
        "* Even though we only have a sample of 20 daily sales data points from a potentially non-normal distribution (the daily sales over 2 years), the Central Limit Theorem tells us that if we were to take many such samples of a sufficiently large size (while the CLT technically applies best to larger sample sizes, for practical purposes and introductory examples, we can use it with this sample), the distribution of the *sample means* would approximate a normal distribution.\n",
        "\n",
        "* This is crucial because:\n",
        "\n",
        "1.  **We can use properties of the normal distribution:** Since the distribution of sample means is approximately normal, we can use the properties of the normal distribution to construct a confidence interval for the true population mean sales (the average daily sales over the entire two years).\n",
        "2.  **We can estimate the standard error:** The CLT also states that the standard deviation of the sample means (called the standard error) can be estimated by dividing the sample standard deviation by the square root of the sample size.\n",
        "\n",
        "* Therefore, even without knowing the distribution of the daily sales for the entire two years, the CLT allows us to use our sample of 20 days to estimate the range within which the true average daily sales for the company likely falls, with a certain level of confidence (in this case, 95%)."
      ]
    },
    {
      "cell_type": "markdown",
      "metadata": {
        "id": "850decf5"
      },
      "source": [
        "Now, here is the Python code to compute the mean sales and its 95% confidence interval:"
      ]
    },
    {
      "cell_type": "code",
      "metadata": {
        "id": "7204b749"
      },
      "source": [
        "import numpy as np\n",
        "from scipy.stats import t\n",
        "\n",
        "daily_sales = [220, 245, 210, 265, 230, 250, 260, 275, 240, 255,\n",
        "               235, 260, 245, 250, 225, 270, 265, 255, 250, 260]\n",
        "\n",
        "# Convert the list to a NumPy array for easier calculations\n",
        "sales_array = np.array(daily_sales)\n",
        "\n",
        "# Compute the mean sales\n",
        "mean_sales = np.mean(sales_array)\n",
        "\n",
        "# Compute the standard deviation of the sample\n",
        "std_dev_sales = np.std(sales_array, ddof=1) # Use ddof=1 for sample standard deviation\n",
        "\n",
        "# Compute the standard error of the mean\n",
        "standard_error = std_dev_sales / np.sqrt(len(sales_array))\n",
        "\n",
        "# Set the confidence level and degrees of freedom\n",
        "confidence_level = 0.95\n",
        "degrees_of_freedom = len(sales_array) - 1\n",
        "\n",
        "# Find the t-score for the desired confidence level\n",
        "# We use the t-distribution because the sample size is small (< 30)\n",
        "alpha = 1 - confidence_level\n",
        "t_score = t.ppf(1 - alpha/2, degrees_of_freedom)\n",
        "\n",
        "# Compute the margin of error\n",
        "margin_of_error = t_score * standard_error\n",
        "\n",
        "# Compute the confidence interval\n",
        "confidence_interval_lower = mean_sales - margin_of_error\n",
        "confidence_interval_upper = mean_sales + margin_of_error\n",
        "\n",
        "print(f\"Mean Sales: {mean_sales:.2f}\")\n",
        "print(f\"Standard Deviation of Sample Sales: {std_dev_sales:.2f}\")\n",
        "print(f\"Standard Error of the Mean: {standard_error:.2f}\")\n",
        "print(f\"T-score for 95% Confidence Level: {t_score:.2f}\")\n",
        "print(f\"Margin of Error: {margin_of_error:.2f}\")\n",
        "print(f\"95% Confidence Interval for Mean Sales: [{confidence_interval_lower:.2f}, {confidence_interval_upper:.2f}]\")"
      ],
      "execution_count": null,
      "outputs": []
    }
  ]
}